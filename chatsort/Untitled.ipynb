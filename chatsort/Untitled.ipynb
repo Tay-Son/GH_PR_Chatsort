{
 "cells": [
  {
   "cell_type": "code",
   "execution_count": 1,
   "id": "edfc6b8a-8871-42af-8046-807282fe73b0",
   "metadata": {
    "pycharm": {
     "name": "#%%\n"
    }
   },
   "outputs": [],
   "source": [
    "# Notebook 출력설정\n",
    "# 주요 라이브러리 임포트\n",
    "\n",
    "import warnings\n",
    "warnings.filterwarnings('ignore')\n",
    "\n",
    "import numpy as np\n",
    "import pandas as pd\n",
    "pd.set_option('display.max_colwidth', -1)\n",
    "pd.set_option('display.max_rows', 1000)\n",
    "pd.set_option('display.max_columns', 500)\n",
    "pd.set_option('display.width', 1000)\n",
    "\n",
    "%matplotlib inline\n",
    "import matplotlib.pylab as plt\n",
    "plt.rcParams[\"figure.figsize\"] = (15,5)\n",
    "plt.rcParams['lines.linewidth'] = 1\n",
    "plt.rcParams['axes.grid'] = True\n",
    "import seaborn as sns\n",
    "\n",
    "import numpy as np\n",
    "import pandas as pd\n",
    "from numpy import dot\n",
    "from numpy.linalg import norm\n",
    "import urllib.request\n",
    "\n",
    "import os\n",
    "import time"
   ]
  },
  {
   "cell_type": "code",
   "execution_count": 2,
   "id": "af495d19-368b-4851-82c9-f186c91b5396",
   "metadata": {
    "pycharm": {
     "name": "#%%\n"
    }
   },
   "outputs": [],
   "source": [
    "from sentence_transformers import SentenceTransformer"
   ]
  },
  {
   "cell_type": "code",
   "execution_count": 3,
   "id": "ae4e5211-b0ee-4422-a1b0-c59ead525f14",
   "metadata": {
    "pycharm": {
     "name": "#%%\n"
    }
   },
   "outputs": [],
   "source": [
    "model_ = SentenceTransformer('sentence-transformers/all-distilroberta-v1')"
   ]
  },
  {
   "cell_type": "code",
   "execution_count": 415,
   "id": "9f4d2981-4a14-4c3e-9897-8839de90615d",
   "metadata": {
    "pycharm": {
     "name": "#%%\n"
    }
   },
   "outputs": [
    {
     "name": "stdout",
     "output_type": "stream",
     "text": [
      "<class 'pandas.core.frame.DataFrame'>\n",
      "Int64Index: 105885 entries, 1 to 108305\n",
      "Data columns (total 3 columns):\n",
      " #   Column  Non-Null Count   Dtype  \n",
      "---  ------  --------------   -----  \n",
      " 0   aut     105885 non-null  object \n",
      " 1   msg     105885 non-null  object \n",
      " 2   tis     105885 non-null  float64\n",
      "dtypes: float64(1), object(2)\n",
      "memory usage: 3.2+ MB\n"
     ]
    },
    {
     "data": {
      "text/html": [
       "<div>\n",
       "<style scoped>\n",
       "    .dataframe tbody tr th:only-of-type {\n",
       "        vertical-align: middle;\n",
       "    }\n",
       "\n",
       "    .dataframe tbody tr th {\n",
       "        vertical-align: top;\n",
       "    }\n",
       "\n",
       "    .dataframe thead th {\n",
       "        text-align: right;\n",
       "    }\n",
       "</style>\n",
       "<table border=\"1\" class=\"dataframe\">\n",
       "  <thead>\n",
       "    <tr style=\"text-align: right;\">\n",
       "      <th></th>\n",
       "      <th>aut</th>\n",
       "      <th>msg</th>\n",
       "      <th>tis</th>\n",
       "    </tr>\n",
       "  </thead>\n",
       "  <tbody>\n",
       "    <tr>\n",
       "      <th>1</th>\n",
       "      <td>UCi7ZTmWUeUH5igELD-aTuvg</td>\n",
       "      <td>THE GAME AWARDS 2021: Official Livestream Today, 7:30p ET / 4:30p PT / 12:30a GMT</td>\n",
       "      <td>0.0</td>\n",
       "    </tr>\n",
       "    <tr>\n",
       "      <th>2</th>\n",
       "      <td>UC1fxm9h8JAN24W7vAKxw7zA</td>\n",
       "      <td>RE Village GOTY</td>\n",
       "      <td>1.0</td>\n",
       "    </tr>\n",
       "    <tr>\n",
       "      <th>3</th>\n",
       "      <td>UCGw59eolmwA7c126brUFtsA</td>\n",
       "      <td>guys check ign</td>\n",
       "      <td>1.0</td>\n",
       "    </tr>\n",
       "    <tr>\n",
       "      <th>4</th>\n",
       "      <td>UCx5HjN20OpFz6AvMTCmPgeg</td>\n",
       "      <td>CAN'T WAIT FOR ALUL'S REWARD STOPPER DANCE THE VIDEO GAME YEEEEEET</td>\n",
       "      <td>1.0</td>\n",
       "    </tr>\n",
       "    <tr>\n",
       "      <th>5</th>\n",
       "      <td>UCeXuMmT_qB-NmtgKSm0tvqw</td>\n",
       "      <td>gex is what we need!</td>\n",
       "      <td>1.0</td>\n",
       "    </tr>\n",
       "  </tbody>\n",
       "</table>\n",
       "</div>"
      ],
      "text/plain": [
       "                        aut                                                                                msg  tis\n",
       "1  UCi7ZTmWUeUH5igELD-aTuvg  THE GAME AWARDS 2021: Official Livestream Today, 7:30p ET / 4:30p PT / 12:30a GMT  0.0\n",
       "2  UC1fxm9h8JAN24W7vAKxw7zA  RE Village GOTY                                                                    1.0\n",
       "3  UCGw59eolmwA7c126brUFtsA  guys check ign                                                                     1.0\n",
       "4  UCx5HjN20OpFz6AvMTCmPgeg  CAN'T WAIT FOR ALUL'S REWARD STOPPER DANCE THE VIDEO GAME YEEEEEET                 1.0\n",
       "5  UCeXuMmT_qB-NmtgKSm0tvqw  gex is what we need!                                                               1.0"
      ]
     },
     "execution_count": 415,
     "metadata": {},
     "output_type": "execute_result"
    }
   ],
   "source": [
    "#data-tga\n",
    "\n",
    "df_ = pd.read_csv('tga.csv', encoding='utf-8')\n",
    "df_.dropna(inplace=True)\n",
    "df_ = df_[~df_['time_in_seconds'].str.contains(':')]\n",
    "df_ = df_[~df_['message'].str.contains('text_message')]\n",
    "\n",
    "df_['tis'] = df_['time_in_seconds'].apply(float)\n",
    "df_['tis'] -= min(df_['tis'])\n",
    "\n",
    "df_tga = pd.DataFrame()\n",
    "df_tga['aut'] = df_['author.id']\n",
    "df_tga['msg'] = df_['message']\n",
    "df_tga['tis'] = df_['tis']\n",
    "\n",
    "# df_[df_['time_in_seconds'].str.contains(':')]['time_in_seconds']\n",
    "df_tga.info()\n",
    "df_tga.head(5)"
   ]
  },
  {
   "cell_type": "code",
   "execution_count": 396,
   "id": "e2e27a39-aeff-4782-a835-91c7f7785984",
   "metadata": {
    "pycharm": {
     "name": "#%%\n"
    }
   },
   "outputs": [
    {
     "name": "stdout",
     "output_type": "stream",
     "text": [
      "<class 'pandas.core.frame.DataFrame'>\n",
      "Int64Index: 29413 entries, 0 to 29493\n",
      "Data columns (total 3 columns):\n",
      " #   Column  Non-Null Count  Dtype  \n",
      "---  ------  --------------  -----  \n",
      " 0   aut     29413 non-null  object \n",
      " 1   msg     29413 non-null  object \n",
      " 2   tis     29413 non-null  float64\n",
      "dtypes: float64(1), object(2)\n",
      "memory usage: 919.2+ KB\n"
     ]
    },
    {
     "data": {
      "text/html": [
       "<div>\n",
       "<style scoped>\n",
       "    .dataframe tbody tr th:only-of-type {\n",
       "        vertical-align: middle;\n",
       "    }\n",
       "\n",
       "    .dataframe tbody tr th {\n",
       "        vertical-align: top;\n",
       "    }\n",
       "\n",
       "    .dataframe thead th {\n",
       "        text-align: right;\n",
       "    }\n",
       "</style>\n",
       "<table border=\"1\" class=\"dataframe\">\n",
       "  <thead>\n",
       "    <tr style=\"text-align: right;\">\n",
       "      <th></th>\n",
       "      <th>aut</th>\n",
       "      <th>msg</th>\n",
       "      <th>tis</th>\n",
       "    </tr>\n",
       "  </thead>\n",
       "  <tbody>\n",
       "    <tr>\n",
       "      <th>0</th>\n",
       "      <td>745020618</td>\n",
       "      <td>均棘</td>\n",
       "      <td>0.000</td>\n",
       "    </tr>\n",
       "    <tr>\n",
       "      <th>1</th>\n",
       "      <td>531464156</td>\n",
       "      <td>yoooooo</td>\n",
       "      <td>1.238</td>\n",
       "    </tr>\n",
       "    <tr>\n",
       "      <th>2</th>\n",
       "      <td>780688049</td>\n",
       "      <td>hi</td>\n",
       "      <td>2.246</td>\n",
       "    </tr>\n",
       "    <tr>\n",
       "      <th>3</th>\n",
       "      <td>718022423</td>\n",
       "      <td>Hello</td>\n",
       "      <td>4.104</td>\n",
       "    </tr>\n",
       "    <tr>\n",
       "      <th>4</th>\n",
       "      <td>561138720</td>\n",
       "      <td>Sup</td>\n",
       "      <td>10.313</td>\n",
       "    </tr>\n",
       "  </tbody>\n",
       "</table>\n",
       "</div>"
      ],
      "text/plain": [
       "         aut      msg     tis\n",
       "0  745020618  均棘       0.000 \n",
       "1  531464156  yoooooo  1.238 \n",
       "2  780688049  hi       2.246 \n",
       "3  718022423  Hello    4.104 \n",
       "4  561138720  Sup      10.313"
      ]
     },
     "execution_count": 396,
     "metadata": {},
     "output_type": "execute_result"
    }
   ],
   "source": [
    "#data-chess2\n",
    "\n",
    "df_ = pd.read_csv('chess2.csv', encoding='utf-8')\n",
    "df_.dropna(inplace=True)\n",
    "df_ = df_[~df_['time_in_seconds'].str.contains(':')]\n",
    "df_ = df_[~df_['message'].str.contains('text_message')]\n",
    "\n",
    "df_['tis'] = df_['time_in_seconds'].apply(float)\n",
    "df_['tis'] -= min(df_['tis'])\n",
    "\n",
    "df_chs2 = pd.DataFrame()\n",
    "df_chs2['aut'] = df_['author.id']\n",
    "df_chs2['msg'] = df_['message']\n",
    "df_chs2['tis'] = df_['tis']\n",
    "\n",
    "# df_[df_['time_in_seconds'].str.contains(':')]['time_in_seconds']\n",
    "df_chs2.info()\n",
    "df_chs2.head(5)"
   ]
  },
  {
   "cell_type": "code",
   "execution_count": 6,
   "id": "baa990fc-ef76-4e83-a230-7042103dded5",
   "metadata": {
    "pycharm": {
     "name": "#%%\n"
    }
   },
   "outputs": [
    {
     "name": "stdout",
     "output_type": "stream",
     "text": [
      "<class 'pandas.core.frame.DataFrame'>\n",
      "Int64Index: 45026 entries, 1 to 47516\n",
      "Data columns (total 3 columns):\n",
      " #   Column  Non-Null Count  Dtype  \n",
      "---  ------  --------------  -----  \n",
      " 0   aut     45026 non-null  object \n",
      " 1   msg     45026 non-null  object \n",
      " 2   tis     45026 non-null  float64\n",
      "dtypes: float64(1), object(2)\n",
      "memory usage: 1.4+ MB\n"
     ]
    }
   ],
   "source": [
    "#data-jonny_d\n",
    "\n",
    "df_ = pd.read_csv('jnd-r.csv', encoding='utf-8')\n",
    "df_.dropna(inplace=True)\n",
    "df_ = df_[~df_['time_in_seconds'].str.contains(':')]\n",
    "df_ = df_[~df_['message'].str.contains('text_message')]\n",
    "\n",
    "df_['tis'] = df_['time_in_seconds'].apply(float)\n",
    "df_['tis'] -= min(df_['tis'])\n",
    "\n",
    "df_jnd = pd.DataFrame()\n",
    "df_jnd['aut'] = df_['author.name']\n",
    "df_jnd['msg'] = df_['message']\n",
    "df_jnd['tis'] = df_['tis']\n",
    "\n",
    "# df_[df_['time_in_seconds'].str.contains(':')]['time_in_seconds']\n",
    "df_jnd.info()\n",
    "# df_jnd.head(5)"
   ]
  },
  {
   "cell_type": "code",
   "execution_count": 4,
   "id": "4ae16be4-c8f9-4f54-b782-619cc88eb0d2",
   "metadata": {
    "pycharm": {
     "name": "#%%\n"
    }
   },
   "outputs": [
    {
     "name": "stdout",
     "output_type": "stream",
     "text": [
      "<class 'pandas.core.frame.DataFrame'>\n",
      "Int64Index: 5310 entries, 0 to 5362\n",
      "Data columns (total 3 columns):\n",
      " #   Column  Non-Null Count  Dtype  \n",
      "---  ------  --------------  -----  \n",
      " 0   aut     5310 non-null   object \n",
      " 1   msg     5310 non-null   object \n",
      " 2   tis     5310 non-null   float64\n",
      "dtypes: float64(1), object(2)\n",
      "memory usage: 165.9+ KB\n"
     ]
    }
   ],
   "source": [
    "#data-bpd\n",
    "\n",
    "df_ = pd.read_csv('bpd-r.csv', encoding='utf-8')\n",
    "df_.dropna(inplace=True)\n",
    "df_ = df_[~df_['time_in_seconds'].str.contains(':')]\n",
    "df_ = df_[~df_['message'].str.contains('text_message')]\n",
    "\n",
    "df_['tis'] = df_['time_in_seconds'].apply(float)\n",
    "df_['tis'] -= min(df_['tis'])\n",
    "\n",
    "df_bpd = pd.DataFrame()\n",
    "df_bpd['aut'] = df_['author.name']\n",
    "df_bpd['msg'] = df_['message']\n",
    "df_bpd['tis'] = df_['tis']\n",
    "\n",
    "# df_[df_['time_in_seconds'].str.contains(':')]['time_in_seconds']\n",
    "df_bpd.info()\n",
    "# df_jnd.head(5)"
   ]
  },
  {
   "cell_type": "code",
   "execution_count": null,
   "id": "cbb6cb8b-33e2-4977-9710-beb268f16547",
   "metadata": {
    "pycharm": {
     "name": "#%%\n"
    }
   },
   "outputs": [
    {
     "name": "stderr",
     "output_type": "stream",
     "text": [
      "Batches:  61%|██████    | 855/1408 [00:10<00:03, 140.05it/s]"
     ]
    }
   ],
   "source": [
    "from collections import deque\n",
    "\n",
    "df_ = df_jnd\n",
    "\n",
    "lst_author = df_['aut'].apply(str).values\n",
    "lst_message = df_['msg'].apply(str).values\n",
    "lst_tis = df_['tis'].values\n",
    "\n",
    "lst_encode = model_.encode(lst_message, convert_to_numpy=True, show_progress_bar=True)"
   ]
  },
  {
   "cell_type": "code",
   "execution_count": 495,
   "id": "450007d7-0944-4f69-b6f6-3b515bef303b",
   "metadata": {
    "pycharm": {
     "name": "#%%\n"
    }
   },
   "outputs": [],
   "source": [
    "que_ = deque(zip(lst_author, lst_message, lst_tis, lst_encode))"
   ]
  },
  {
   "cell_type": "code",
   "execution_count": 496,
   "id": "04033f18-dac1-47de-8527-72547a319525",
   "metadata": {
    "pycharm": {
     "name": "#%%\n"
    }
   },
   "outputs": [],
   "source": [
    "#options\n",
    "\n",
    "SIZE_WINDOW = 500\n",
    "MAX_VIEW = 10\n",
    "THRESHOLD_ = .75\n",
    "\n",
    "MAG_TIME = 50.\n",
    "\n"
   ]
  },
  {
   "cell_type": "code",
   "execution_count": 497,
   "id": "4217d4ef-337c-4135-895b-6a19321f84e1",
   "metadata": {
    "pycharm": {
     "name": "#%%\n"
    }
   },
   "outputs": [],
   "source": [
    "\n",
    "cnt_ = 0 \n",
    "window_mes = ['' for _ in range(SIZE_WINDOW)]\n",
    "window_enc = [-1 for _ in range(SIZE_WINDOW)]\n",
    "window_mat = [[.0 for _ in range(SIZE_WINDOW)] for _ in range(SIZE_WINDOW)]\n",
    "window_tot = [.0 for _ in range(SIZE_WINDOW)]\n",
    "\n",
    "def func_score(enc_a, enc_b):\n",
    "    score_ = float(util.cos_sim(enc_a, enc_b)[0][0])\n",
    "    # score_ = max(0, score_)\n",
    "    score_ = score_ if score_ >= THRESHOLD_ else 0\n",
    "    return score_\n",
    "\n",
    "def validate_(mes_):\n",
    "    return True\n",
    "\n",
    "def window_insert(mes_, enc_):\n",
    "    global cnt_\n",
    "    \n",
    "    cnt_ += 1\n",
    "\n",
    "    idx_window = cnt_ % SIZE_WINDOW\n",
    "    window_mes[idx_window] = mes_\n",
    "    window_enc[idx_window] = enc_\n",
    "    \n",
    "    for idx_window_sub in range(SIZE_WINDOW):\n",
    "        mes_sub = window_mes[idx_window_sub]\n",
    "        enc_sub = window_enc[idx_window_sub]\n",
    "        val_old = window_mat[idx_window][idx_window_sub]\n",
    "        window_tot[idx_window_sub] -= val_old\n",
    "        \n",
    "        if mes_sub == '':\n",
    "            score_ = 0.0\n",
    "        else:\n",
    "            score_ = func_score(enc_, enc_sub)\n",
    "        \n",
    "        window_mat[idx_window][idx_window_sub] = score_\n",
    "        window_mat[idx_window_sub][idx_window] = score_\n",
    "        window_tot[idx_window] += score_\n",
    "\n",
    "def print_mat():\n",
    "    if SIZE_WINDOW <= 20:\n",
    "        o_ = '-' * (6 * SIZE_WINDOW + 5) + '\\n' \n",
    "        for idx_n in range(SIZE_WINDOW):\n",
    "            for idx_m in range(SIZE_WINDOW):\n",
    "                o_ += '{:<5.3f}'.format(window_mat[idx_n][idx_m]) + ' '\n",
    "            o_ += '{:>5.2f}'.format(window_tot[idx_n]) + '\\n'\n",
    "        o_ += '-' * (6 * SIZE_WINDOW + 5) + '\\n' \n",
    "        return o_\n",
    "    else:\n",
    "        return 'data is so big.\\n'\n",
    "\n",
    "def print_sort():\n",
    "    o_ = ''\n",
    "    lst_printed = [] \n",
    "    lst_c = [idx_ for _, idx_ in sorted(zip(window_tot, range(SIZE_WINDOW)), reverse=True)]\n",
    "    for idx_window in lst_c:\n",
    "        \n",
    "        for idx_printed in lst_printed:\n",
    "            if window_mat[idx_window][idx_printed] > THRESHOLD_:\n",
    "                break\n",
    "        else:\n",
    "            o_ += 'Score: {:>5.2f}'.format(window_tot[idx_window]) + ' '\n",
    "            mes_ = window_mes[idx_window]\n",
    "            o_ += 'Value: {:<50}'.format(mes_[:50]) + '\\n'\n",
    "            lst_b = [idx_ for _, idx_ in sorted(zip(window_mat[idx_window], range(SIZE_WINDOW)), reverse=True)]\n",
    "            for idx_sub in lst_b[1:6]:\n",
    "                if window_mat[idx_window][idx_sub] >= THRESHOLD_:\n",
    "                    mes_sub = window_mes[idx_sub]\n",
    "                    o_ += 'S:{:<5.3f} V:{:<20}|'.format(window_mat[idx_window][idx_sub], mes_sub[:20])\n",
    "            o_ += '\\n\\n'\n",
    "            \n",
    "            lst_printed.append(idx_window)\n",
    "            if len(lst_printed) == MAX_VIEW:\n",
    "                break\n",
    "    \n",
    "    return o_\n",
    "    \n",
    "def print_chat():\n",
    "    return ''\n",
    "        \n"
   ]
  },
  {
   "cell_type": "code",
   "execution_count": 498,
   "id": "60357c10-3e36-4e45-830c-2704b6142eca",
   "metadata": {
    "pycharm": {
     "name": "#%%\n"
    }
   },
   "outputs": [
    {
     "name": "stdout",
     "output_type": "stream",
     "text": [
      "22575.967693328857 5310\n",
      "data is so big.\n",
      "\n",
      "Score:  9.57 Value: D                                                 \n",
      "S:1.000 V:D                   |S:0.946 V:d                   |S:0.946 V:d                   |S:0.946 V:d                   |S:0.946 V:d                   |\n",
      "\n",
      "Score:  7.74 Value: BORIS IS AN FSB AGENT                             \n",
      "S:0.937 V:BORIS IS THE FSB    |S:0.937 V:BORIS IS THE FSB    |S:0.905 V:BORIS IS AN FSB STOO|S:0.793 V:BORIS=FSB           |S:0.793 V:BORIS=FSB           |\n",
      "\n",
      "Score:  5.74 Value: BORIS FTW                                         \n",
      "S:0.817 V:BORIS WILL WIN      |S:0.797 V:BORIS=FSB           |S:0.797 V:BORIS=FSB           |S:0.797 V:BORIS=FSB           |S:0.797 V:BORIS=FSB           |\n",
      "\n",
      "Score:  5.67 Value: :face_with_tears_of_joy:                          \n",
      "S:1.000 V::face_with_tears_of_|S:1.000 V::face_with_tears_of_|S:1.000 V::face_with_tears_of_|S:0.856 V::face_with_tears_of_|S:0.812 V:@cheber :face_with_t|\n",
      "\n",
      "Score:  4.00 Value: LEAVE                                             \n",
      "S:1.000 V:LEAVE               |S:1.000 V:LEAVE               |S:1.000 V:LEAVE               |\n",
      "\n",
      "Score:  3.62 Value: no election                                       \n",
      "S:0.931 V:no elections        |S:0.931 V:no elections        |S:0.759 V:wtf election or no? |\n",
      "\n",
      "Score:  3.48 Value: wtf                                               \n",
      "S:0.884 V:Wtf                 |S:0.796 V:WTF                 |S:0.796 V:WTF                 |\n",
      "\n",
      "Score:  2.76 Value: Too many women in parliamanet SMH                 \n",
      "S:1.000 V:Too many women in pa|S:0.759 V:Too many women in pa|\n",
      "\n",
      "Score:  2.74 Value: ORDAAA                                            \n",
      "S:0.906 V:ORDAAAA             |S:0.837 V:ORDAAAAAAAAAAAAAAAAA|\n",
      "\n",
      "Score:  2.59 Value: ORDEEEEEEEEEEEEEEEEEEEEAAAAAAAAAAAAAAAA           \n",
      "S:0.810 V:ORDAAAAAAAAAAAAAAAAA|S:0.781 V:ORDAAAA             |\n",
      "\n",
      "\n",
      "\n"
     ]
    }
   ],
   "source": [
    "from IPython.display import clear_output\n",
    "import time\n",
    "\n",
    "time_s = time.time()\n",
    "\n",
    "while que_:\n",
    "    time_t = (time.time() - time_s) * MAG_TIME\n",
    "\n",
    "    print_ = ''\n",
    "    while que_ and (que_[0][2] <= time_t):\n",
    "        aut_, mes_, tis_, enc_ = que_.popleft()\n",
    "        if window_insert(mes_, enc_):\n",
    "            pass\n",
    "    print_ += print_mat() + '\\n'\n",
    "    print_ += print_sort() + '\\n'\n",
    "    print_ += print_chat()\n",
    "    clear_output(wait=True)\n",
    "    print(time_t, cnt_)\n",
    "    print(print_)\n",
    "    time.sleep(.5)\n",
    "    \n"
   ]
  },
  {
   "cell_type": "code",
   "execution_count": null,
   "id": "5662beb5-487b-493e-ad04-08caa07bc766",
   "metadata": {
    "pycharm": {
     "name": "#%%\n"
    }
   },
   "outputs": [],
   "source": []
  }
 ],
 "metadata": {
  "kernelspec": {
   "display_name": "Python 3 (ipykernel)",
   "language": "python",
   "name": "python3"
  },
  "language_info": {
   "codemirror_mode": {
    "name": "ipython",
    "version": 3
   },
   "file_extension": ".py",
   "mimetype": "text/x-python",
   "name": "python",
   "nbconvert_exporter": "python",
   "pygments_lexer": "ipython3",
   "version": "3.9.12"
  },
  "widgets": {
   "application/vnd.jupyter.widget-state+json": {
    "state": {
     "01fd7ab710a0430495457f9e6727f5dd": {
      "model_module": "@jupyter-widgets/controls",
      "model_module_version": "1.5.0",
      "model_name": "DescriptionStyleModel",
      "state": {
       "description_width": ""
      }
     },
     "050f9b765b1a464b8c7737fb6b64c33b": {
      "model_module": "@jupyter-widgets/controls",
      "model_module_version": "1.5.0",
      "model_name": "HBoxModel",
      "state": {
       "children": [
        "IPY_MODEL_9b1574e49172460db3f452506c2da3fe",
        "IPY_MODEL_87f3eb923fa14799a485be9d4fc46660",
        "IPY_MODEL_feab91ae9d4642b89fc60b30ef97ab23"
       ],
       "layout": "IPY_MODEL_a3966e57ffe74df09316ee57108fefe6"
      }
     },
     "064a2e03edc74f83a23a978a5d432c82": {
      "model_module": "@jupyter-widgets/base",
      "model_module_version": "1.2.0",
      "model_name": "LayoutModel",
      "state": {}
     },
     "06765263aab64f60a5c2bd49b4ca83b2": {
      "model_module": "@jupyter-widgets/controls",
      "model_module_version": "1.5.0",
      "model_name": "HTMLModel",
      "state": {
       "layout": "IPY_MODEL_5bdbeae70cd44c77a314180e8ef60b5c",
       "style": "IPY_MODEL_f1bb209e1b304780bff2dd59e92de6af",
       "value": "Batches: 100%"
      }
     },
     "06efb706ac5140dcb59b08e30f253298": {
      "model_module": "@jupyter-widgets/controls",
      "model_module_version": "1.5.0",
      "model_name": "DescriptionStyleModel",
      "state": {
       "description_width": ""
      }
     },
     "074b3c7ff6ac4d61b5b869337664bbaa": {
      "model_module": "@jupyter-widgets/controls",
      "model_module_version": "1.5.0",
      "model_name": "HTMLModel",
      "state": {
       "layout": "IPY_MODEL_f91ba6e8353f442f8ad5a3034382ba1a",
       "style": "IPY_MODEL_1728c4798295415fb42c6a544b3627f6",
       "value": "Batches: 100%"
      }
     },
     "09b9fe746c844083a75b6644630af9a3": {
      "model_module": "@jupyter-widgets/controls",
      "model_module_version": "1.5.0",
      "model_name": "FloatProgressModel",
      "state": {
       "bar_style": "success",
       "layout": "IPY_MODEL_064a2e03edc74f83a23a978a5d432c82",
       "max": 3385,
       "style": "IPY_MODEL_438f6aec5f68477aa6780f2ced98568a",
       "value": 3385
      }
     },
     "0d03a34d63904939992b18f1309d4704": {
      "model_module": "@jupyter-widgets/base",
      "model_module_version": "1.2.0",
      "model_name": "LayoutModel",
      "state": {}
     },
     "0d40cc31a6ee4fdd945b9a496657bd13": {
      "model_module": "@jupyter-widgets/controls",
      "model_module_version": "1.5.0",
      "model_name": "HTMLModel",
      "state": {
       "layout": "IPY_MODEL_b2c3cae8b1a848228ab08bff3b8bebf9",
       "style": "IPY_MODEL_528d034918f842a88057d78cad43e9ae",
       "value": "Batches: 100%"
      }
     },
     "0d6929e7599647b09a62ad670f4e6a4a": {
      "model_module": "@jupyter-widgets/base",
      "model_module_version": "1.2.0",
      "model_name": "LayoutModel",
      "state": {}
     },
     "0fecc313c0634549901a615b8f7ac2b5": {
      "model_module": "@jupyter-widgets/base",
      "model_module_version": "1.2.0",
      "model_name": "LayoutModel",
      "state": {}
     },
     "10c8b1ad26344580a11346145a1e8d2c": {
      "model_module": "@jupyter-widgets/controls",
      "model_module_version": "1.5.0",
      "model_name": "FloatProgressModel",
      "state": {
       "bar_style": "success",
       "layout": "IPY_MODEL_999ee599fcfc4a5f83cbb0866984c407",
       "max": 3311,
       "style": "IPY_MODEL_81307e310bbc4e30b172726310031575",
       "value": 3311
      }
     },
     "125331609eb24d4d8bc600daca6f3c61": {
      "model_module": "@jupyter-widgets/controls",
      "model_module_version": "1.5.0",
      "model_name": "HTMLModel",
      "state": {
       "layout": "IPY_MODEL_7a69a9dd244745f695001c7c663b43b6",
       "style": "IPY_MODEL_40e09bfe87d747e193c3403a89141585",
       "value": " 920/920 [00:08&lt;00:00, 164.31it/s]"
      }
     },
     "1462e5627ee3470fb397b056d911d777": {
      "model_module": "@jupyter-widgets/base",
      "model_module_version": "1.2.0",
      "model_name": "LayoutModel",
      "state": {}
     },
     "15022302e0a94071972e764b2d1b4504": {
      "model_module": "@jupyter-widgets/controls",
      "model_module_version": "1.5.0",
      "model_name": "FloatProgressModel",
      "state": {
       "bar_style": "success",
       "layout": "IPY_MODEL_8673a841dc204198945581de2042aa6e",
       "max": 922,
       "style": "IPY_MODEL_c063025e105c4365b3333902536d5293",
       "value": 922
      }
     },
     "15b64e2297ae45f9b12ad77e4842e3a9": {
      "model_module": "@jupyter-widgets/base",
      "model_module_version": "1.2.0",
      "model_name": "LayoutModel",
      "state": {}
     },
     "15cf0cd0382e41e18c45f966576489d9": {
      "model_module": "@jupyter-widgets/controls",
      "model_module_version": "1.5.0",
      "model_name": "ProgressStyleModel",
      "state": {
       "description_width": ""
      }
     },
     "166a19876d944c1b94b85b7b60cb9bed": {
      "model_module": "@jupyter-widgets/controls",
      "model_module_version": "1.5.0",
      "model_name": "HBoxModel",
      "state": {
       "children": [
        "IPY_MODEL_0d40cc31a6ee4fdd945b9a496657bd13",
        "IPY_MODEL_3d393f2d68b44fbaaab754f25e979df2",
        "IPY_MODEL_b2ee78028dd444b8a4bb85303f1716f6"
       ],
       "layout": "IPY_MODEL_63790f6053a04686aa434811890ea3a5"
      }
     },
     "1728c4798295415fb42c6a544b3627f6": {
      "model_module": "@jupyter-widgets/controls",
      "model_module_version": "1.5.0",
      "model_name": "DescriptionStyleModel",
      "state": {
       "description_width": ""
      }
     },
     "17d83b169aeb467e85a0ff6692706687": {
      "model_module": "@jupyter-widgets/controls",
      "model_module_version": "1.5.0",
      "model_name": "ProgressStyleModel",
      "state": {
       "description_width": ""
      }
     },
     "18d94c76a9e94621860c45ae71e9550e": {
      "model_module": "@jupyter-widgets/controls",
      "model_module_version": "1.5.0",
      "model_name": "HTMLModel",
      "state": {
       "layout": "IPY_MODEL_cb94088adff946d38861e3715194c78b",
       "style": "IPY_MODEL_1f15d76545444a98b70b50fd8136686d",
       "value": " 3385/3385 [00:42&lt;00:00, 159.98it/s]"
      }
     },
     "1d3417dbd14c461aa1bc34555ee9de54": {
      "model_module": "@jupyter-widgets/controls",
      "model_module_version": "1.5.0",
      "model_name": "DescriptionStyleModel",
      "state": {
       "description_width": ""
      }
     },
     "1e5c6615704e4cf6963533ef6ed8fbce": {
      "model_module": "@jupyter-widgets/base",
      "model_module_version": "1.2.0",
      "model_name": "LayoutModel",
      "state": {}
     },
     "1e8ac14986854d7e8e994df611401a1e": {
      "model_module": "@jupyter-widgets/controls",
      "model_module_version": "1.5.0",
      "model_name": "HBoxModel",
      "state": {
       "children": [
        "IPY_MODEL_f51b878de8054fe6b71f059851934c74",
        "IPY_MODEL_92c2b07c6bd54d03a84dffa08a3b844c",
        "IPY_MODEL_18d94c76a9e94621860c45ae71e9550e"
       ],
       "layout": "IPY_MODEL_df517f9197884a7ca2d52f7a8d297d0b"
      }
     },
     "1f15d76545444a98b70b50fd8136686d": {
      "model_module": "@jupyter-widgets/controls",
      "model_module_version": "1.5.0",
      "model_name": "DescriptionStyleModel",
      "state": {
       "description_width": ""
      }
     },
     "1fcefc749624469a9abfde28728a70cf": {
      "model_module": "@jupyter-widgets/controls",
      "model_module_version": "1.5.0",
      "model_name": "ProgressStyleModel",
      "state": {
       "description_width": ""
      }
     },
     "2165f4989bea4de886fcc368a543f17f": {
      "model_module": "@jupyter-widgets/controls",
      "model_module_version": "1.5.0",
      "model_name": "ProgressStyleModel",
      "state": {
       "description_width": ""
      }
     },
     "24719797ae354de8bfca80bfa65ef6cd": {
      "model_module": "@jupyter-widgets/base",
      "model_module_version": "1.2.0",
      "model_name": "LayoutModel",
      "state": {}
     },
     "257c28186594466582766f16f21a1ea0": {
      "model_module": "@jupyter-widgets/base",
      "model_module_version": "1.2.0",
      "model_name": "LayoutModel",
      "state": {}
     },
     "2b4896755d0d4b4d806fb7f092067723": {
      "model_module": "@jupyter-widgets/base",
      "model_module_version": "1.2.0",
      "model_name": "LayoutModel",
      "state": {}
     },
     "2bdd583e60b742f89af59a131dd59ca7": {
      "model_module": "@jupyter-widgets/controls",
      "model_module_version": "1.5.0",
      "model_name": "HBoxModel",
      "state": {
       "children": [
        "IPY_MODEL_6ace39b2d8a8460b9b1c87ff31feee80",
        "IPY_MODEL_15022302e0a94071972e764b2d1b4504",
        "IPY_MODEL_891bfa8016b844a0ba42ac22263950c4"
       ],
       "layout": "IPY_MODEL_efdc0ab5f71a418bb507d65150cc630d"
      }
     },
     "2c379d972fb34c73a50c3326a30dbe2d": {
      "model_module": "@jupyter-widgets/controls",
      "model_module_version": "1.5.0",
      "model_name": "DescriptionStyleModel",
      "state": {
       "description_width": ""
      }
     },
     "2c777929103343aba9604afb3a101a3d": {
      "model_module": "@jupyter-widgets/base",
      "model_module_version": "1.2.0",
      "model_name": "LayoutModel",
      "state": {}
     },
     "2f030ae1093740e78344bef2872cb00d": {
      "model_module": "@jupyter-widgets/controls",
      "model_module_version": "1.5.0",
      "model_name": "FloatProgressModel",
      "state": {
       "bar_style": "success",
       "layout": "IPY_MODEL_ce3dcf5bf5d0483cb57fbd804e5db002",
       "max": 3385,
       "style": "IPY_MODEL_17d83b169aeb467e85a0ff6692706687",
       "value": 3385
      }
     },
     "3008f2809cc945549239837c09874cda": {
      "model_module": "@jupyter-widgets/controls",
      "model_module_version": "1.5.0",
      "model_name": "HTMLModel",
      "state": {
       "layout": "IPY_MODEL_815e17815d46465583e1481d40555f09",
       "style": "IPY_MODEL_36f805b5302745d89e3fba1399277aae",
       "value": "Batches: 100%"
      }
     },
     "311014390d5d4761831b9824857b5b21": {
      "model_module": "@jupyter-widgets/controls",
      "model_module_version": "1.5.0",
      "model_name": "DescriptionStyleModel",
      "state": {
       "description_width": ""
      }
     },
     "33917ecc1f1e4f4882f9ab8d324b830d": {
      "model_module": "@jupyter-widgets/controls",
      "model_module_version": "1.5.0",
      "model_name": "DescriptionStyleModel",
      "state": {
       "description_width": ""
      }
     },
     "35c6eb2080624818adc3c15521be370a": {
      "model_module": "@jupyter-widgets/base",
      "model_module_version": "1.2.0",
      "model_name": "LayoutModel",
      "state": {}
     },
     "36f805b5302745d89e3fba1399277aae": {
      "model_module": "@jupyter-widgets/controls",
      "model_module_version": "1.5.0",
      "model_name": "DescriptionStyleModel",
      "state": {
       "description_width": ""
      }
     },
     "3c1a48c847684c79ac7e95562fae9b34": {
      "model_module": "@jupyter-widgets/base",
      "model_module_version": "1.2.0",
      "model_name": "LayoutModel",
      "state": {}
     },
     "3c83371077454943b38d470c2ac6f396": {
      "model_module": "@jupyter-widgets/base",
      "model_module_version": "1.2.0",
      "model_name": "LayoutModel",
      "state": {}
     },
     "3d393f2d68b44fbaaab754f25e979df2": {
      "model_module": "@jupyter-widgets/controls",
      "model_module_version": "1.5.0",
      "model_name": "FloatProgressModel",
      "state": {
       "bar_style": "success",
       "layout": "IPY_MODEL_fd091dee735b4fe3a61dfa1fa24b1b82",
       "max": 922,
       "style": "IPY_MODEL_ad7d16e3ed034707b7548a1ecdd61399",
       "value": 922
      }
     },
     "400998649b00464d970561171504a671": {
      "model_module": "@jupyter-widgets/base",
      "model_module_version": "1.2.0",
      "model_name": "LayoutModel",
      "state": {}
     },
     "40e09bfe87d747e193c3403a89141585": {
      "model_module": "@jupyter-widgets/controls",
      "model_module_version": "1.5.0",
      "model_name": "DescriptionStyleModel",
      "state": {
       "description_width": ""
      }
     },
     "41c280d299434544930addc185bf39ac": {
      "model_module": "@jupyter-widgets/controls",
      "model_module_version": "1.5.0",
      "model_name": "HTMLModel",
      "state": {
       "layout": "IPY_MODEL_a5e91f82b7e046c48f68265a9264359b",
       "style": "IPY_MODEL_33917ecc1f1e4f4882f9ab8d324b830d",
       "value": "Batches: 100%"
      }
     },
     "42ec5eb4adec49cfa285baa09c5ea9e9": {
      "model_module": "@jupyter-widgets/base",
      "model_module_version": "1.2.0",
      "model_name": "LayoutModel",
      "state": {}
     },
     "43613d363ca94d6a9e3a6d481f3ec1eb": {
      "model_module": "@jupyter-widgets/controls",
      "model_module_version": "1.5.0",
      "model_name": "HBoxModel",
      "state": {
       "children": [
        "IPY_MODEL_e1ab2a9edace48baa3a83718b6a297ae",
        "IPY_MODEL_9e0ff51d78ed421fb6616f5f32da12ef",
        "IPY_MODEL_e1e99128097145f6b870a9c83def1799"
       ],
       "layout": "IPY_MODEL_c98dfbee7fce4a39bcb046416e16f868"
      }
     },
     "438f6aec5f68477aa6780f2ced98568a": {
      "model_module": "@jupyter-widgets/controls",
      "model_module_version": "1.5.0",
      "model_name": "ProgressStyleModel",
      "state": {
       "description_width": ""
      }
     },
     "43b857848c1a4bc6a1d0b8e898a42106": {
      "model_module": "@jupyter-widgets/controls",
      "model_module_version": "1.5.0",
      "model_name": "HTMLModel",
      "state": {
       "layout": "IPY_MODEL_35c6eb2080624818adc3c15521be370a",
       "style": "IPY_MODEL_01fd7ab710a0430495457f9e6727f5dd",
       "value": " 1408/1408 [00:18&lt;00:00, 153.63it/s]"
      }
     },
     "4827e01423d748308389124f703ab14c": {
      "model_module": "@jupyter-widgets/base",
      "model_module_version": "1.2.0",
      "model_name": "LayoutModel",
      "state": {}
     },
     "49601a53d7c44eef8faab21e5117af57": {
      "model_module": "@jupyter-widgets/controls",
      "model_module_version": "1.5.0",
      "model_name": "DescriptionStyleModel",
      "state": {
       "description_width": ""
      }
     },
     "49e17e9aa1e64813a7a93eb1b1464395": {
      "model_module": "@jupyter-widgets/controls",
      "model_module_version": "1.5.0",
      "model_name": "HBoxModel",
      "state": {
       "children": [
        "IPY_MODEL_5875164160274a0ca817bda56eb1013e",
        "IPY_MODEL_68cff9862eff45c5b0bde07de8687c24",
        "IPY_MODEL_792fd9bae82a490480eb1bd6d40719aa"
       ],
       "layout": "IPY_MODEL_59b3f58b0e504c86ab68f75a81cdad59"
      }
     },
     "50e9108d26ca462191dc0847d0e5e0e1": {
      "model_module": "@jupyter-widgets/controls",
      "model_module_version": "1.5.0",
      "model_name": "HBoxModel",
      "state": {
       "children": [
        "IPY_MODEL_074b3c7ff6ac4d61b5b869337664bbaa",
        "IPY_MODEL_bb3fc05741a2461d9e01fc603118b98a",
        "IPY_MODEL_92ca934f826345aab08b2fc5233bd962"
       ],
       "layout": "IPY_MODEL_1e5c6615704e4cf6963533ef6ed8fbce"
      }
     },
     "528d034918f842a88057d78cad43e9ae": {
      "model_module": "@jupyter-widgets/controls",
      "model_module_version": "1.5.0",
      "model_name": "DescriptionStyleModel",
      "state": {
       "description_width": ""
      }
     },
     "5501dff0f7964ba09eb36952323826dc": {
      "model_module": "@jupyter-widgets/controls",
      "model_module_version": "1.5.0",
      "model_name": "HBoxModel",
      "state": {
       "children": [
        "IPY_MODEL_d56e8b97be354822bd3e254f07c2160d",
        "IPY_MODEL_faf490c991ed4c60afeed9bc93f9f8e5",
        "IPY_MODEL_ae222babc2f04e6998ded31e6702dc0a"
       ],
       "layout": "IPY_MODEL_bb8f6c512b274ed887017eda186d6001"
      }
     },
     "5875164160274a0ca817bda56eb1013e": {
      "model_module": "@jupyter-widgets/controls",
      "model_module_version": "1.5.0",
      "model_name": "HTMLModel",
      "state": {
       "layout": "IPY_MODEL_0d03a34d63904939992b18f1309d4704",
       "style": "IPY_MODEL_b5821daaba3042eb9ad41be45756f84a",
       "value": "Batches: 100%"
      }
     },
     "5913453ecb8c4ad6bea9159362dfe88c": {
      "model_module": "@jupyter-widgets/controls",
      "model_module_version": "1.5.0",
      "model_name": "ProgressStyleModel",
      "state": {
       "description_width": ""
      }
     },
     "59b3f58b0e504c86ab68f75a81cdad59": {
      "model_module": "@jupyter-widgets/base",
      "model_module_version": "1.2.0",
      "model_name": "LayoutModel",
      "state": {}
     },
     "5bdbeae70cd44c77a314180e8ef60b5c": {
      "model_module": "@jupyter-widgets/base",
      "model_module_version": "1.2.0",
      "model_name": "LayoutModel",
      "state": {}
     },
     "5c954fd0de6d4435bfe29e1042842a9a": {
      "model_module": "@jupyter-widgets/controls",
      "model_module_version": "1.5.0",
      "model_name": "HBoxModel",
      "state": {
       "children": [
        "IPY_MODEL_9c20f278b17d4127b927403b7d4df93e",
        "IPY_MODEL_09b9fe746c844083a75b6644630af9a3",
        "IPY_MODEL_6de2546e7a9642788a075c30e946d7f0"
       ],
       "layout": "IPY_MODEL_a6c28b1e83f44f98a4335ccdaaa1389f"
      }
     },
     "5d8b6be3c6a746e08a423f6e364a8abe": {
      "model_module": "@jupyter-widgets/base",
      "model_module_version": "1.2.0",
      "model_name": "LayoutModel",
      "state": {}
     },
     "5dafaab9892f4c8d9ab60c31c0ab2c94": {
      "model_module": "@jupyter-widgets/controls",
      "model_module_version": "1.5.0",
      "model_name": "HTMLModel",
      "state": {
       "layout": "IPY_MODEL_7aa6ce7134f04257a08a4ee753124c21",
       "style": "IPY_MODEL_a17dbc9c099743dfb12a504cea270ca9",
       "value": "Batches: 100%"
      }
     },
     "60baf595cbab415d963680781579d00b": {
      "model_module": "@jupyter-widgets/controls",
      "model_module_version": "1.5.0",
      "model_name": "HBoxModel",
      "state": {
       "children": [
        "IPY_MODEL_41c280d299434544930addc185bf39ac",
        "IPY_MODEL_ee6add86b1ca4b75ac7233b3c1a83b02",
        "IPY_MODEL_f6d2f4507fe0439b9442df9b782904f9"
       ],
       "layout": "IPY_MODEL_1462e5627ee3470fb397b056d911d777"
      }
     },
     "61e4e293e8bb4117ac24fff9325c6d0a": {
      "model_module": "@jupyter-widgets/controls",
      "model_module_version": "1.5.0",
      "model_name": "DescriptionStyleModel",
      "state": {
       "description_width": ""
      }
     },
     "63535e072f2b4b9b87c07bd029c0a90c": {
      "model_module": "@jupyter-widgets/controls",
      "model_module_version": "1.5.0",
      "model_name": "FloatProgressModel",
      "state": {
       "bar_style": "success",
       "layout": "IPY_MODEL_257c28186594466582766f16f21a1ea0",
       "max": 922,
       "style": "IPY_MODEL_ee38fe4f10b549a7acaebb328167eef1",
       "value": 922
      }
     },
     "63790f6053a04686aa434811890ea3a5": {
      "model_module": "@jupyter-widgets/base",
      "model_module_version": "1.2.0",
      "model_name": "LayoutModel",
      "state": {}
     },
     "6510748c148d41ae91afe1ac11172dea": {
      "model_module": "@jupyter-widgets/controls",
      "model_module_version": "1.5.0",
      "model_name": "DescriptionStyleModel",
      "state": {
       "description_width": ""
      }
     },
     "66aae9d98e79443596332504e66d710b": {
      "model_module": "@jupyter-widgets/base",
      "model_module_version": "1.2.0",
      "model_name": "LayoutModel",
      "state": {}
     },
     "68cff9862eff45c5b0bde07de8687c24": {
      "model_module": "@jupyter-widgets/controls",
      "model_module_version": "1.5.0",
      "model_name": "FloatProgressModel",
      "state": {
       "bar_style": "success",
       "layout": "IPY_MODEL_b9bb7cbb76784c1bb1eb81942f0519fb",
       "max": 166,
       "style": "IPY_MODEL_1fcefc749624469a9abfde28728a70cf",
       "value": 166
      }
     },
     "6ace39b2d8a8460b9b1c87ff31feee80": {
      "model_module": "@jupyter-widgets/controls",
      "model_module_version": "1.5.0",
      "model_name": "HTMLModel",
      "state": {
       "layout": "IPY_MODEL_6e92131c8d854a5489f10de2ead3877d",
       "style": "IPY_MODEL_a481632cf1f34d29b410217c0c16bafd",
       "value": "Batches: 100%"
      }
     },
     "6c8ceb1c171c4e5097341457e01af7bd": {
      "model_module": "@jupyter-widgets/controls",
      "model_module_version": "1.5.0",
      "model_name": "HBoxModel",
      "state": {
       "children": [
        "IPY_MODEL_b7417ec8c5e748818d646a2e8a6bbd64",
        "IPY_MODEL_63535e072f2b4b9b87c07bd029c0a90c",
        "IPY_MODEL_e5d0e65b3bd144ae887ecaa5dea26976"
       ],
       "layout": "IPY_MODEL_95cfa8c328354f2a9f483e1453b5cb5e"
      }
     },
     "6de2546e7a9642788a075c30e946d7f0": {
      "model_module": "@jupyter-widgets/controls",
      "model_module_version": "1.5.0",
      "model_name": "HTMLModel",
      "state": {
       "layout": "IPY_MODEL_9defb485b7154993a6b6d95ba7777f2a",
       "style": "IPY_MODEL_b69f170b43464b5b902c4d70f72347e9",
       "value": " 3385/3385 [00:40&lt;00:00, 156.28it/s]"
      }
     },
     "6e92131c8d854a5489f10de2ead3877d": {
      "model_module": "@jupyter-widgets/base",
      "model_module_version": "1.2.0",
      "model_name": "LayoutModel",
      "state": {}
     },
     "6ed0d4001ca2405fbd279845f61a7ad5": {
      "model_module": "@jupyter-widgets/controls",
      "model_module_version": "1.5.0",
      "model_name": "DescriptionStyleModel",
      "state": {
       "description_width": ""
      }
     },
     "719506a3ad044d839f2750ef65d3e083": {
      "model_module": "@jupyter-widgets/controls",
      "model_module_version": "1.5.0",
      "model_name": "DescriptionStyleModel",
      "state": {
       "description_width": ""
      }
     },
     "76f903f21c714529b2d14b9afbef38d1": {
      "model_module": "@jupyter-widgets/controls",
      "model_module_version": "1.5.0",
      "model_name": "HBoxModel",
      "state": {
       "children": [
        "IPY_MODEL_a312142db3364f80a2f4166a17f0ea21",
        "IPY_MODEL_2f030ae1093740e78344bef2872cb00d",
        "IPY_MODEL_d46b6f79384f4dddb0d5c1670dbf0bf0"
       ],
       "layout": "IPY_MODEL_c45823b728ab4f18b2ca7ee0cbc1a4d1"
      }
     },
     "792fd9bae82a490480eb1bd6d40719aa": {
      "model_module": "@jupyter-widgets/controls",
      "model_module_version": "1.5.0",
      "model_name": "HTMLModel",
      "state": {
       "layout": "IPY_MODEL_a9e537e070e74e469a33035e54f6ed63",
       "style": "IPY_MODEL_6510748c148d41ae91afe1ac11172dea",
       "value": " 166/166 [00:03&lt;00:00, 90.16it/s]"
      }
     },
     "7a35c68d9176464da22e971f326cdc6a": {
      "model_module": "@jupyter-widgets/controls",
      "model_module_version": "1.5.0",
      "model_name": "DescriptionStyleModel",
      "state": {
       "description_width": ""
      }
     },
     "7a69a9dd244745f695001c7c663b43b6": {
      "model_module": "@jupyter-widgets/base",
      "model_module_version": "1.2.0",
      "model_name": "LayoutModel",
      "state": {}
     },
     "7aa6ce7134f04257a08a4ee753124c21": {
      "model_module": "@jupyter-widgets/base",
      "model_module_version": "1.2.0",
      "model_name": "LayoutModel",
      "state": {}
     },
     "7c4a41389f714d4e8c9a9f12bd223fd8": {
      "model_module": "@jupyter-widgets/controls",
      "model_module_version": "1.5.0",
      "model_name": "HTMLModel",
      "state": {
       "layout": "IPY_MODEL_965bac14170b408ea6cbe3cd16f86467",
       "style": "IPY_MODEL_e32031bea2ab45aab2a0fc2505bf9831",
       "value": " 920/920 [00:08&lt;00:00, 162.61it/s]"
      }
     },
     "81307e310bbc4e30b172726310031575": {
      "model_module": "@jupyter-widgets/controls",
      "model_module_version": "1.5.0",
      "model_name": "ProgressStyleModel",
      "state": {
       "description_width": ""
      }
     },
     "815e17815d46465583e1481d40555f09": {
      "model_module": "@jupyter-widgets/base",
      "model_module_version": "1.2.0",
      "model_name": "LayoutModel",
      "state": {}
     },
     "8377545b533447b29d744a6cf0f906e4": {
      "model_module": "@jupyter-widgets/controls",
      "model_module_version": "1.5.0",
      "model_name": "ProgressStyleModel",
      "state": {
       "description_width": ""
      }
     },
     "85386f6c75cd40b9bd583ff22cb498f6": {
      "model_module": "@jupyter-widgets/base",
      "model_module_version": "1.2.0",
      "model_name": "LayoutModel",
      "state": {}
     },
     "8673a841dc204198945581de2042aa6e": {
      "model_module": "@jupyter-widgets/base",
      "model_module_version": "1.2.0",
      "model_name": "LayoutModel",
      "state": {}
     },
     "87f3eb923fa14799a485be9d4fc46660": {
      "model_module": "@jupyter-widgets/controls",
      "model_module_version": "1.5.0",
      "model_name": "FloatProgressModel",
      "state": {
       "bar_style": "danger",
       "layout": "IPY_MODEL_0d6929e7599647b09a62ad670f4e6a4a",
       "max": 3309,
       "style": "IPY_MODEL_2165f4989bea4de886fcc368a543f17f",
       "value": 53
      }
     },
     "88bded57e50142fba9da4221540510a2": {
      "model_module": "@jupyter-widgets/base",
      "model_module_version": "1.2.0",
      "model_name": "LayoutModel",
      "state": {}
     },
     "891bfa8016b844a0ba42ac22263950c4": {
      "model_module": "@jupyter-widgets/controls",
      "model_module_version": "1.5.0",
      "model_name": "HTMLModel",
      "state": {
       "layout": "IPY_MODEL_88bded57e50142fba9da4221540510a2",
       "style": "IPY_MODEL_e8b7eb55f47340029f110e387fa4c4d7",
       "value": " 922/922 [00:08&lt;00:00, 158.25it/s]"
      }
     },
     "8a9a1a6f004c4094a310966a239c7730": {
      "model_module": "@jupyter-widgets/controls",
      "model_module_version": "1.5.0",
      "model_name": "ProgressStyleModel",
      "state": {
       "description_width": ""
      }
     },
     "8ac98bdce49a47b18c00add668b79791": {
      "model_module": "@jupyter-widgets/base",
      "model_module_version": "1.2.0",
      "model_name": "LayoutModel",
      "state": {}
     },
     "8e5b87185e814f8eac64749204849256": {
      "model_module": "@jupyter-widgets/controls",
      "model_module_version": "1.5.0",
      "model_name": "DescriptionStyleModel",
      "state": {
       "description_width": ""
      }
     },
     "92c2b07c6bd54d03a84dffa08a3b844c": {
      "model_module": "@jupyter-widgets/controls",
      "model_module_version": "1.5.0",
      "model_name": "FloatProgressModel",
      "state": {
       "bar_style": "success",
       "layout": "IPY_MODEL_3c1a48c847684c79ac7e95562fae9b34",
       "max": 3385,
       "style": "IPY_MODEL_8a9a1a6f004c4094a310966a239c7730",
       "value": 3385
      }
     },
     "92ca934f826345aab08b2fc5233bd962": {
      "model_module": "@jupyter-widgets/controls",
      "model_module_version": "1.5.0",
      "model_name": "HTMLModel",
      "state": {
       "layout": "IPY_MODEL_f170e35937b344bdb6db975da64a305a",
       "style": "IPY_MODEL_b92fde50c3ab42b3a9d86946bac75e5f",
       "value": " 3309/3309 [00:34&lt;00:00, 164.30it/s]"
      }
     },
     "94f7260454584a8888a18dd43785a1bb": {
      "model_module": "@jupyter-widgets/controls",
      "model_module_version": "1.5.0",
      "model_name": "HBoxModel",
      "state": {
       "children": [
        "IPY_MODEL_959611c72969461ca802b8e187a6c4c0",
        "IPY_MODEL_c80cda92b0fa41f79934cfa4eb8f7007",
        "IPY_MODEL_125331609eb24d4d8bc600daca6f3c61"
       ],
       "layout": "IPY_MODEL_15b64e2297ae45f9b12ad77e4842e3a9"
      }
     },
     "959611c72969461ca802b8e187a6c4c0": {
      "model_module": "@jupyter-widgets/controls",
      "model_module_version": "1.5.0",
      "model_name": "HTMLModel",
      "state": {
       "layout": "IPY_MODEL_2b4896755d0d4b4d806fb7f092067723",
       "style": "IPY_MODEL_e7c61842b310447fb086b7cec97d4556",
       "value": "Batches: 100%"
      }
     },
     "95cfa8c328354f2a9f483e1453b5cb5e": {
      "model_module": "@jupyter-widgets/base",
      "model_module_version": "1.2.0",
      "model_name": "LayoutModel",
      "state": {}
     },
     "965bac14170b408ea6cbe3cd16f86467": {
      "model_module": "@jupyter-widgets/base",
      "model_module_version": "1.2.0",
      "model_name": "LayoutModel",
      "state": {}
     },
     "994aaef265d5456a83457ac909f8e272": {
      "model_module": "@jupyter-widgets/base",
      "model_module_version": "1.2.0",
      "model_name": "LayoutModel",
      "state": {}
     },
     "999ee599fcfc4a5f83cbb0866984c407": {
      "model_module": "@jupyter-widgets/base",
      "model_module_version": "1.2.0",
      "model_name": "LayoutModel",
      "state": {}
     },
     "9b1574e49172460db3f452506c2da3fe": {
      "model_module": "@jupyter-widgets/controls",
      "model_module_version": "1.5.0",
      "model_name": "HTMLModel",
      "state": {
       "layout": "IPY_MODEL_f1a04778f3fb4946b8830cecddfd541c",
       "style": "IPY_MODEL_e6ba1d50ec0b47e786be62ef81684ff4",
       "value": "Batches:   2%"
      }
     },
     "9c20f278b17d4127b927403b7d4df93e": {
      "model_module": "@jupyter-widgets/controls",
      "model_module_version": "1.5.0",
      "model_name": "HTMLModel",
      "state": {
       "layout": "IPY_MODEL_d7a3bbab800749d49c6cdef904bc952f",
       "style": "IPY_MODEL_719506a3ad044d839f2750ef65d3e083",
       "value": "Batches: 100%"
      }
     },
     "9defb485b7154993a6b6d95ba7777f2a": {
      "model_module": "@jupyter-widgets/base",
      "model_module_version": "1.2.0",
      "model_name": "LayoutModel",
      "state": {}
     },
     "9e0ff51d78ed421fb6616f5f32da12ef": {
      "model_module": "@jupyter-widgets/controls",
      "model_module_version": "1.5.0",
      "model_name": "FloatProgressModel",
      "state": {
       "bar_style": "success",
       "layout": "IPY_MODEL_b94062de48c64acf8853430a7b76df34",
       "max": 3311,
       "style": "IPY_MODEL_5913453ecb8c4ad6bea9159362dfe88c",
       "value": 3311
      }
     },
     "a17dbc9c099743dfb12a504cea270ca9": {
      "model_module": "@jupyter-widgets/controls",
      "model_module_version": "1.5.0",
      "model_name": "DescriptionStyleModel",
      "state": {
       "description_width": ""
      }
     },
     "a312142db3364f80a2f4166a17f0ea21": {
      "model_module": "@jupyter-widgets/controls",
      "model_module_version": "1.5.0",
      "model_name": "HTMLModel",
      "state": {
       "layout": "IPY_MODEL_da9e5a7aefba49e2a9b59fcefdf6e483",
       "style": "IPY_MODEL_1d3417dbd14c461aa1bc34555ee9de54",
       "value": "Batches: 100%"
      }
     },
     "a3966e57ffe74df09316ee57108fefe6": {
      "model_module": "@jupyter-widgets/base",
      "model_module_version": "1.2.0",
      "model_name": "LayoutModel",
      "state": {}
     },
     "a481632cf1f34d29b410217c0c16bafd": {
      "model_module": "@jupyter-widgets/controls",
      "model_module_version": "1.5.0",
      "model_name": "DescriptionStyleModel",
      "state": {
       "description_width": ""
      }
     },
     "a5e91f82b7e046c48f68265a9264359b": {
      "model_module": "@jupyter-widgets/base",
      "model_module_version": "1.2.0",
      "model_name": "LayoutModel",
      "state": {}
     },
     "a6c28b1e83f44f98a4335ccdaaa1389f": {
      "model_module": "@jupyter-widgets/base",
      "model_module_version": "1.2.0",
      "model_name": "LayoutModel",
      "state": {}
     },
     "a7a5f176aeed4cada132668d35421d84": {
      "model_module": "@jupyter-widgets/base",
      "model_module_version": "1.2.0",
      "model_name": "LayoutModel",
      "state": {}
     },
     "a9e537e070e74e469a33035e54f6ed63": {
      "model_module": "@jupyter-widgets/base",
      "model_module_version": "1.2.0",
      "model_name": "LayoutModel",
      "state": {}
     },
     "ac88b1d864df46519852a87dc2ebd62e": {
      "model_module": "@jupyter-widgets/controls",
      "model_module_version": "1.5.0",
      "model_name": "FloatProgressModel",
      "state": {
       "bar_style": "success",
       "layout": "IPY_MODEL_a7a5f176aeed4cada132668d35421d84",
       "max": 920,
       "style": "IPY_MODEL_15cf0cd0382e41e18c45f966576489d9",
       "value": 920
      }
     },
     "ad7d16e3ed034707b7548a1ecdd61399": {
      "model_module": "@jupyter-widgets/controls",
      "model_module_version": "1.5.0",
      "model_name": "ProgressStyleModel",
      "state": {
       "description_width": ""
      }
     },
     "ae222babc2f04e6998ded31e6702dc0a": {
      "model_module": "@jupyter-widgets/controls",
      "model_module_version": "1.5.0",
      "model_name": "HTMLModel",
      "state": {
       "layout": "IPY_MODEL_4827e01423d748308389124f703ab14c",
       "style": "IPY_MODEL_2c379d972fb34c73a50c3326a30dbe2d",
       "value": " 3385/3385 [00:42&lt;00:00, 160.15it/s]"
      }
     },
     "ae95e81110e641e9b556f730735e00c5": {
      "model_module": "@jupyter-widgets/controls",
      "model_module_version": "1.5.0",
      "model_name": "ProgressStyleModel",
      "state": {
       "description_width": ""
      }
     },
     "b2c3cae8b1a848228ab08bff3b8bebf9": {
      "model_module": "@jupyter-widgets/base",
      "model_module_version": "1.2.0",
      "model_name": "LayoutModel",
      "state": {}
     },
     "b2ee78028dd444b8a4bb85303f1716f6": {
      "model_module": "@jupyter-widgets/controls",
      "model_module_version": "1.5.0",
      "model_name": "HTMLModel",
      "state": {
       "layout": "IPY_MODEL_e197559f94244810a30bd4de76f13138",
       "style": "IPY_MODEL_61e4e293e8bb4117ac24fff9325c6d0a",
       "value": " 922/922 [00:13&lt;00:00, 157.63it/s]"
      }
     },
     "b57a4860796d4bbca7d7fc16822ea298": {
      "model_module": "@jupyter-widgets/controls",
      "model_module_version": "1.5.0",
      "model_name": "HTMLModel",
      "state": {
       "layout": "IPY_MODEL_24719797ae354de8bfca80bfa65ef6cd",
       "style": "IPY_MODEL_f9977663f3e843f889ec74109f0939f7",
       "value": " 3311/3311 [00:38&lt;00:00, 160.53it/s]"
      }
     },
     "b5821daaba3042eb9ad41be45756f84a": {
      "model_module": "@jupyter-widgets/controls",
      "model_module_version": "1.5.0",
      "model_name": "DescriptionStyleModel",
      "state": {
       "description_width": ""
      }
     },
     "b69f170b43464b5b902c4d70f72347e9": {
      "model_module": "@jupyter-widgets/controls",
      "model_module_version": "1.5.0",
      "model_name": "DescriptionStyleModel",
      "state": {
       "description_width": ""
      }
     },
     "b7417ec8c5e748818d646a2e8a6bbd64": {
      "model_module": "@jupyter-widgets/controls",
      "model_module_version": "1.5.0",
      "model_name": "HTMLModel",
      "state": {
       "layout": "IPY_MODEL_8ac98bdce49a47b18c00add668b79791",
       "style": "IPY_MODEL_ddbf3d5c319141a99d2e898f8d5f9d52",
       "value": "Batches: 100%"
      }
     },
     "b92fde50c3ab42b3a9d86946bac75e5f": {
      "model_module": "@jupyter-widgets/controls",
      "model_module_version": "1.5.0",
      "model_name": "DescriptionStyleModel",
      "state": {
       "description_width": ""
      }
     },
     "b94062de48c64acf8853430a7b76df34": {
      "model_module": "@jupyter-widgets/base",
      "model_module_version": "1.2.0",
      "model_name": "LayoutModel",
      "state": {}
     },
     "b96278ed6f864d46a5a8e193725de84d": {
      "model_module": "@jupyter-widgets/controls",
      "model_module_version": "1.5.0",
      "model_name": "ProgressStyleModel",
      "state": {
       "description_width": ""
      }
     },
     "b9bb7cbb76784c1bb1eb81942f0519fb": {
      "model_module": "@jupyter-widgets/base",
      "model_module_version": "1.2.0",
      "model_name": "LayoutModel",
      "state": {}
     },
     "baf7b2634b54492ab4cc05de7aa34f29": {
      "model_module": "@jupyter-widgets/controls",
      "model_module_version": "1.5.0",
      "model_name": "ProgressStyleModel",
      "state": {
       "description_width": ""
      }
     },
     "bb3fc05741a2461d9e01fc603118b98a": {
      "model_module": "@jupyter-widgets/controls",
      "model_module_version": "1.5.0",
      "model_name": "FloatProgressModel",
      "state": {
       "bar_style": "success",
       "layout": "IPY_MODEL_400998649b00464d970561171504a671",
       "max": 3309,
       "style": "IPY_MODEL_cd39264676b5496a9050fc91c900f558",
       "value": 3309
      }
     },
     "bb8f6c512b274ed887017eda186d6001": {
      "model_module": "@jupyter-widgets/base",
      "model_module_version": "1.2.0",
      "model_name": "LayoutModel",
      "state": {}
     },
     "be7208d2617e4a62abd168625a4a92c3": {
      "model_module": "@jupyter-widgets/controls",
      "model_module_version": "1.5.0",
      "model_name": "DescriptionStyleModel",
      "state": {
       "description_width": ""
      }
     },
     "c063025e105c4365b3333902536d5293": {
      "model_module": "@jupyter-widgets/controls",
      "model_module_version": "1.5.0",
      "model_name": "ProgressStyleModel",
      "state": {
       "description_width": ""
      }
     },
     "c196f49055f14914927f9167824d2dc7": {
      "model_module": "@jupyter-widgets/controls",
      "model_module_version": "1.5.0",
      "model_name": "HBoxModel",
      "state": {
       "children": [
        "IPY_MODEL_5dafaab9892f4c8d9ab60c31c0ab2c94",
        "IPY_MODEL_ac88b1d864df46519852a87dc2ebd62e",
        "IPY_MODEL_7c4a41389f714d4e8c9a9f12bd223fd8"
       ],
       "layout": "IPY_MODEL_d7a07bdbaadc44ea9470971c7f0ea24d"
      }
     },
     "c3f8cd80f8e3452488d65d930e058fa2": {
      "model_module": "@jupyter-widgets/base",
      "model_module_version": "1.2.0",
      "model_name": "LayoutModel",
      "state": {}
     },
     "c3fd9e2091b6403dbb5aa8ee5ad07b31": {
      "model_module": "@jupyter-widgets/controls",
      "model_module_version": "1.5.0",
      "model_name": "DescriptionStyleModel",
      "state": {
       "description_width": ""
      }
     },
     "c45823b728ab4f18b2ca7ee0cbc1a4d1": {
      "model_module": "@jupyter-widgets/base",
      "model_module_version": "1.2.0",
      "model_name": "LayoutModel",
      "state": {}
     },
     "c80cda92b0fa41f79934cfa4eb8f7007": {
      "model_module": "@jupyter-widgets/controls",
      "model_module_version": "1.5.0",
      "model_name": "FloatProgressModel",
      "state": {
       "bar_style": "success",
       "layout": "IPY_MODEL_dfa07357e9d24384b2bfdc28d2ccf437",
       "max": 920,
       "style": "IPY_MODEL_8377545b533447b29d744a6cf0f906e4",
       "value": 920
      }
     },
     "c98dfbee7fce4a39bcb046416e16f868": {
      "model_module": "@jupyter-widgets/base",
      "model_module_version": "1.2.0",
      "model_name": "LayoutModel",
      "state": {}
     },
     "cb94088adff946d38861e3715194c78b": {
      "model_module": "@jupyter-widgets/base",
      "model_module_version": "1.2.0",
      "model_name": "LayoutModel",
      "state": {}
     },
     "cd39264676b5496a9050fc91c900f558": {
      "model_module": "@jupyter-widgets/controls",
      "model_module_version": "1.5.0",
      "model_name": "ProgressStyleModel",
      "state": {
       "description_width": ""
      }
     },
     "ce3dcf5bf5d0483cb57fbd804e5db002": {
      "model_module": "@jupyter-widgets/base",
      "model_module_version": "1.2.0",
      "model_name": "LayoutModel",
      "state": {}
     },
     "d46b6f79384f4dddb0d5c1670dbf0bf0": {
      "model_module": "@jupyter-widgets/controls",
      "model_module_version": "1.5.0",
      "model_name": "HTMLModel",
      "state": {
       "layout": "IPY_MODEL_5d8b6be3c6a746e08a423f6e364a8abe",
       "style": "IPY_MODEL_49601a53d7c44eef8faab21e5117af57",
       "value": " 3385/3385 [00:39&lt;00:00, 162.00it/s]"
      }
     },
     "d56e8b97be354822bd3e254f07c2160d": {
      "model_module": "@jupyter-widgets/controls",
      "model_module_version": "1.5.0",
      "model_name": "HTMLModel",
      "state": {
       "layout": "IPY_MODEL_85386f6c75cd40b9bd583ff22cb498f6",
       "style": "IPY_MODEL_be7208d2617e4a62abd168625a4a92c3",
       "value": "Batches: 100%"
      }
     },
     "d7a07bdbaadc44ea9470971c7f0ea24d": {
      "model_module": "@jupyter-widgets/base",
      "model_module_version": "1.2.0",
      "model_name": "LayoutModel",
      "state": {}
     },
     "d7a3bbab800749d49c6cdef904bc952f": {
      "model_module": "@jupyter-widgets/base",
      "model_module_version": "1.2.0",
      "model_name": "LayoutModel",
      "state": {}
     },
     "da9e5a7aefba49e2a9b59fcefdf6e483": {
      "model_module": "@jupyter-widgets/base",
      "model_module_version": "1.2.0",
      "model_name": "LayoutModel",
      "state": {}
     },
     "dcf91e2de87d43dd990eaba6ebf4ef29": {
      "model_module": "@jupyter-widgets/base",
      "model_module_version": "1.2.0",
      "model_name": "LayoutModel",
      "state": {}
     },
     "ddbf3d5c319141a99d2e898f8d5f9d52": {
      "model_module": "@jupyter-widgets/controls",
      "model_module_version": "1.5.0",
      "model_name": "DescriptionStyleModel",
      "state": {
       "description_width": ""
      }
     },
     "df517f9197884a7ca2d52f7a8d297d0b": {
      "model_module": "@jupyter-widgets/base",
      "model_module_version": "1.2.0",
      "model_name": "LayoutModel",
      "state": {}
     },
     "df7504af71f244a5bb42fabe15d53276": {
      "model_module": "@jupyter-widgets/controls",
      "model_module_version": "1.5.0",
      "model_name": "HBoxModel",
      "state": {
       "children": [
        "IPY_MODEL_06765263aab64f60a5c2bd49b4ca83b2",
        "IPY_MODEL_10c8b1ad26344580a11346145a1e8d2c",
        "IPY_MODEL_b57a4860796d4bbca7d7fc16822ea298"
       ],
       "layout": "IPY_MODEL_42ec5eb4adec49cfa285baa09c5ea9e9"
      }
     },
     "dfa07357e9d24384b2bfdc28d2ccf437": {
      "model_module": "@jupyter-widgets/base",
      "model_module_version": "1.2.0",
      "model_name": "LayoutModel",
      "state": {}
     },
     "e197559f94244810a30bd4de76f13138": {
      "model_module": "@jupyter-widgets/base",
      "model_module_version": "1.2.0",
      "model_name": "LayoutModel",
      "state": {}
     },
     "e1ab2a9edace48baa3a83718b6a297ae": {
      "model_module": "@jupyter-widgets/controls",
      "model_module_version": "1.5.0",
      "model_name": "HTMLModel",
      "state": {
       "layout": "IPY_MODEL_eb15061f7d9b453db9602727e67cc63b",
       "style": "IPY_MODEL_06efb706ac5140dcb59b08e30f253298",
       "value": "Batches: 100%"
      }
     },
     "e1e99128097145f6b870a9c83def1799": {
      "model_module": "@jupyter-widgets/controls",
      "model_module_version": "1.5.0",
      "model_name": "HTMLModel",
      "state": {
       "layout": "IPY_MODEL_2c777929103343aba9604afb3a101a3d",
       "style": "IPY_MODEL_6ed0d4001ca2405fbd279845f61a7ad5",
       "value": " 3311/3311 [00:35&lt;00:00, 162.12it/s]"
      }
     },
     "e32031bea2ab45aab2a0fc2505bf9831": {
      "model_module": "@jupyter-widgets/controls",
      "model_module_version": "1.5.0",
      "model_name": "DescriptionStyleModel",
      "state": {
       "description_width": ""
      }
     },
     "e5d0e65b3bd144ae887ecaa5dea26976": {
      "model_module": "@jupyter-widgets/controls",
      "model_module_version": "1.5.0",
      "model_name": "HTMLModel",
      "state": {
       "layout": "IPY_MODEL_ee5e52dabf134c95aba0b9b399b4dd5f",
       "style": "IPY_MODEL_8e5b87185e814f8eac64749204849256",
       "value": " 922/922 [00:08&lt;00:00, 161.67it/s]"
      }
     },
     "e65bd2e1b8174f67b8475cc08c2a8bf8": {
      "model_module": "@jupyter-widgets/controls",
      "model_module_version": "1.5.0",
      "model_name": "HBoxModel",
      "state": {
       "children": [
        "IPY_MODEL_3008f2809cc945549239837c09874cda",
        "IPY_MODEL_f8817891e8604c83a8a9636e25486ccb",
        "IPY_MODEL_43b857848c1a4bc6a1d0b8e898a42106"
       ],
       "layout": "IPY_MODEL_0fecc313c0634549901a615b8f7ac2b5"
      }
     },
     "e6ba1d50ec0b47e786be62ef81684ff4": {
      "model_module": "@jupyter-widgets/controls",
      "model_module_version": "1.5.0",
      "model_name": "DescriptionStyleModel",
      "state": {
       "description_width": ""
      }
     },
     "e7c61842b310447fb086b7cec97d4556": {
      "model_module": "@jupyter-widgets/controls",
      "model_module_version": "1.5.0",
      "model_name": "DescriptionStyleModel",
      "state": {
       "description_width": ""
      }
     },
     "e8b7eb55f47340029f110e387fa4c4d7": {
      "model_module": "@jupyter-widgets/controls",
      "model_module_version": "1.5.0",
      "model_name": "DescriptionStyleModel",
      "state": {
       "description_width": ""
      }
     },
     "eb15061f7d9b453db9602727e67cc63b": {
      "model_module": "@jupyter-widgets/base",
      "model_module_version": "1.2.0",
      "model_name": "LayoutModel",
      "state": {}
     },
     "ee38fe4f10b549a7acaebb328167eef1": {
      "model_module": "@jupyter-widgets/controls",
      "model_module_version": "1.5.0",
      "model_name": "ProgressStyleModel",
      "state": {
       "description_width": ""
      }
     },
     "ee5e52dabf134c95aba0b9b399b4dd5f": {
      "model_module": "@jupyter-widgets/base",
      "model_module_version": "1.2.0",
      "model_name": "LayoutModel",
      "state": {}
     },
     "ee6add86b1ca4b75ac7233b3c1a83b02": {
      "model_module": "@jupyter-widgets/controls",
      "model_module_version": "1.5.0",
      "model_name": "FloatProgressModel",
      "state": {
       "bar_style": "success",
       "layout": "IPY_MODEL_fa06458fbe104bceb186ba848260b135",
       "max": 3309,
       "style": "IPY_MODEL_baf7b2634b54492ab4cc05de7aa34f29",
       "value": 3309
      }
     },
     "efdc0ab5f71a418bb507d65150cc630d": {
      "model_module": "@jupyter-widgets/base",
      "model_module_version": "1.2.0",
      "model_name": "LayoutModel",
      "state": {}
     },
     "f170e35937b344bdb6db975da64a305a": {
      "model_module": "@jupyter-widgets/base",
      "model_module_version": "1.2.0",
      "model_name": "LayoutModel",
      "state": {}
     },
     "f1a04778f3fb4946b8830cecddfd541c": {
      "model_module": "@jupyter-widgets/base",
      "model_module_version": "1.2.0",
      "model_name": "LayoutModel",
      "state": {}
     },
     "f1bb209e1b304780bff2dd59e92de6af": {
      "model_module": "@jupyter-widgets/controls",
      "model_module_version": "1.5.0",
      "model_name": "DescriptionStyleModel",
      "state": {
       "description_width": ""
      }
     },
     "f51b878de8054fe6b71f059851934c74": {
      "model_module": "@jupyter-widgets/controls",
      "model_module_version": "1.5.0",
      "model_name": "HTMLModel",
      "state": {
       "layout": "IPY_MODEL_c3f8cd80f8e3452488d65d930e058fa2",
       "style": "IPY_MODEL_7a35c68d9176464da22e971f326cdc6a",
       "value": "Batches: 100%"
      }
     },
     "f6d2f4507fe0439b9442df9b782904f9": {
      "model_module": "@jupyter-widgets/controls",
      "model_module_version": "1.5.0",
      "model_name": "HTMLModel",
      "state": {
       "layout": "IPY_MODEL_3c83371077454943b38d470c2ac6f396",
       "style": "IPY_MODEL_311014390d5d4761831b9824857b5b21",
       "value": " 3309/3309 [00:34&lt;00:00, 163.27it/s]"
      }
     },
     "f8817891e8604c83a8a9636e25486ccb": {
      "model_module": "@jupyter-widgets/controls",
      "model_module_version": "1.5.0",
      "model_name": "FloatProgressModel",
      "state": {
       "bar_style": "success",
       "layout": "IPY_MODEL_66aae9d98e79443596332504e66d710b",
       "max": 1408,
       "style": "IPY_MODEL_b96278ed6f864d46a5a8e193725de84d",
       "value": 1408
      }
     },
     "f91ba6e8353f442f8ad5a3034382ba1a": {
      "model_module": "@jupyter-widgets/base",
      "model_module_version": "1.2.0",
      "model_name": "LayoutModel",
      "state": {}
     },
     "f9977663f3e843f889ec74109f0939f7": {
      "model_module": "@jupyter-widgets/controls",
      "model_module_version": "1.5.0",
      "model_name": "DescriptionStyleModel",
      "state": {
       "description_width": ""
      }
     },
     "fa06458fbe104bceb186ba848260b135": {
      "model_module": "@jupyter-widgets/base",
      "model_module_version": "1.2.0",
      "model_name": "LayoutModel",
      "state": {}
     },
     "faf490c991ed4c60afeed9bc93f9f8e5": {
      "model_module": "@jupyter-widgets/controls",
      "model_module_version": "1.5.0",
      "model_name": "FloatProgressModel",
      "state": {
       "bar_style": "success",
       "layout": "IPY_MODEL_994aaef265d5456a83457ac909f8e272",
       "max": 3385,
       "style": "IPY_MODEL_ae95e81110e641e9b556f730735e00c5",
       "value": 3385
      }
     },
     "fd091dee735b4fe3a61dfa1fa24b1b82": {
      "model_module": "@jupyter-widgets/base",
      "model_module_version": "1.2.0",
      "model_name": "LayoutModel",
      "state": {}
     },
     "feab91ae9d4642b89fc60b30ef97ab23": {
      "model_module": "@jupyter-widgets/controls",
      "model_module_version": "1.5.0",
      "model_name": "HTMLModel",
      "state": {
       "layout": "IPY_MODEL_dcf91e2de87d43dd990eaba6ebf4ef29",
       "style": "IPY_MODEL_c3fd9e2091b6403dbb5aa8ee5ad07b31",
       "value": " 53/3309 [00:08&lt;07:33,  7.18it/s]"
      }
     }
    },
    "version_major": 2,
    "version_minor": 0
   }
  }
 },
 "nbformat": 4,
 "nbformat_minor": 5
}